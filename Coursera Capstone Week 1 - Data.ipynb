{
 "cells": [
  {
   "cell_type": "markdown",
   "metadata": {
    "collapsed": true
   },
   "source": [
    "# Capstone: Find the best neighborhood in New York to open a Restaurant Supply Store"
   ]
  },
  {
   "cell_type": "markdown",
   "metadata": {},
   "source": [
    "**Prepared by Pranav Narayanan**"
   ]
  },
  {
   "cell_type": "markdown",
   "metadata": {},
   "source": [
    "## Data Requirements:"
   ]
  },
  {
   "cell_type": "markdown",
   "metadata": {},
   "source": [
    "### 1. We will need a list of New York neighborhoods along with longitude and latitude information."
   ]
  },
  {
   "cell_type": "markdown",
   "metadata": {},
   "source": [
    "We start by collecting data about New York which orimarily comprises of its Neahborhoods, Boroughs and the corresponding Latitude and Longitude information. Below link contains the required information - \n",
    "\n",
    "https://geo.nyu.edu/catalog/nyu-2451-34572"
   ]
  },
  {
   "cell_type": "markdown",
   "metadata": {},
   "source": [
    "### 2. We will need a list of all Restaurant Venues from all neighborhoods in New York"
   ]
  },
  {
   "cell_type": "markdown",
   "metadata": {},
   "source": [
    "We use FOURSQUARE API to download all venues which are related to food from all neighborhoods in New York.\n",
    "https://api.foursquare.com\n",
    "\n",
    "Venues related to food can be filtered by passing the category identifier obtained from website - \n",
    "https://developer.foursquare.com/docs/resources/categories"
   ]
  },
  {
   "cell_type": "markdown",
   "metadata": {},
   "source": [
    "### 3. Combine all of those into a working Data Set to cluster and geo spatial map of the results showing the best neighborhood to open a Restaurant Supply Store in New York"
   ]
  },
  {
   "cell_type": "markdown",
   "metadata": {},
   "source": [
    "Combining all of these disparate data sets will clearly demonstrate the following:\n",
    "\n",
    " - which neighborhoods in New York have clusters of like Restaurants\n",
    " - which neighborhood should the client target to open their new store."
   ]
  },
  {
   "cell_type": "code",
   "execution_count": null,
   "metadata": {},
   "outputs": [],
   "source": []
  }
 ],
 "metadata": {
  "kernelspec": {
   "display_name": "Python 3.7",
   "language": "python",
   "name": "python3"
  },
  "language_info": {
   "codemirror_mode": {
    "name": "ipython",
    "version": 3
   },
   "file_extension": ".py",
   "mimetype": "text/x-python",
   "name": "python",
   "nbconvert_exporter": "python",
   "pygments_lexer": "ipython3",
   "version": "3.7.9"
  }
 },
 "nbformat": 4,
 "nbformat_minor": 1
}
